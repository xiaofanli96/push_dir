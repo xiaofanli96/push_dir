{
 "cells": [
  {
   "cell_type": "markdown",
   "metadata": {},
   "source": [
    "## Astro 9: Homework 1\n",
    "**Name: Li Xiaofan (Zoe)**\n",
    "<br>\n",
    "**Date: 2017/07/11 **\n",
    "\n",
    "---\n",
    "\n",
    "**Due by Wednesday, July 12th at 3:00pm via GitHub**\n",
    "<br>\n",
    "To submit to GitHub, **commit** your most up-to-date version of this file and any supporting materials, and **push** to the online repository it is linked to.\n",
    "\n",
    "*Homework Tips: Here are some tips for completing this and future homeworks for the course*\n",
    "\n",
    "* Document your code! Part of your score on the homework will be if you get the \"right\" answer, but also if there is a clear effort and if some (if not all) of the right steps are taken towards the correct solution. In order for us to understand what you've written, you need to have clearly written code. Documenting your code with comments (# sign) and spacing out your code (but not too much) makes it easier to read. This also allows us to see clearly that you know what you are doing, rather than just typing down a certain piece of code because lecture said so.\n",
    "\n",
    "You'll thank yourself later for documenting your code when you come back to it in a few months or years from now: trust me! Below is an example of a well-documented code.\n",
    "\n",
    "---\n"
   ]
  },
  {
   "cell_type": "markdown",
   "metadata": {},
   "source": [
    "** Example Script **\n",
    "\n",
    "This code will approximate the value of $\\pi^{2}$ via the convergent series of inverse squares\n",
    "\n",
    "$1/1 + 1/4 + 1/9 + 1/16 + \\ldots = \\pi^2/6$"
   ]
  },
  {
   "cell_type": "code",
   "execution_count": 2,
   "metadata": {},
   "outputs": [
    {
     "name": "stdout",
     "output_type": "stream",
     "text": [
      "pi^2 ~ 9.86954440 with 100000 terms\n"
     ]
    }
   ],
   "source": [
    "# number of terms in series\n",
    "N = 100000\n",
    "\n",
    "# generate series from a list comprehension\n",
    "series = []\n",
    "for i in range(1, N+1):\n",
    "    series.append( 1 / float(i)**2 )\n",
    "    \n",
    "# sum and find pi\n",
    "tot = sum(series)\n",
    "pi = tot*6\n",
    "\n",
    "# print result\n",
    "print(\"pi^2 ~ {:.8f} with {:d} terms\".format(pi, N))"
   ]
  },
  {
   "cell_type": "markdown",
   "metadata": {},
   "source": [
    "Don't forget you can also comment your code and thoughts in [**MarkDown**](https://github.com/adam-p/markdown-here/wiki/Markdown-Cheatsheet), as I've done here and in the lectures! All you have to do is create a new cell and change its purpose from `Code` to `Markdown` using the drop-down menu in the page-header above ^."
   ]
  },
  {
   "cell_type": "markdown",
   "metadata": {},
   "source": [
    "### Problem 1: get everything installed!\n",
    "---\n",
    "\n",
    "Make sure you have all of the fundamental software we will need for the course installed onto your machine. Make sure you have Python 3.X working (preferably with an Anaconda distribution and the Conda package manaeger). Presumably you have Git and Jupyter Notebooks running if you are able to download and view this file. If you already have Python 2.X running and are uncomfortable using Python 3.X by default, you may want to look into [creating a Python3.X environment](https://conda.io/docs/using/envs.html). Regardless, this and all future homeworks will require that they are written in Python 3.X (I'm running Python 3.5.2). See one of the instructors after class or during office hours if you are having trouble or have concerns."
   ]
  },
  {
   "cell_type": "markdown",
   "metadata": {
    "collapsed": true
   },
   "source": [
    "### Problem 2: using `git`\n",
    "---\n",
    "\n",
    "1. While drafting this homework, make at least three commits and leave informative commit messages (we can see them). Make sure you commit **and push** your final draft of the homework to the online repo before 3pm on Tueday (don't forget to push!): we can see exactly when the homework is pushed online. "
   ]
  },
  {
   "cell_type": "code",
   "execution_count": null,
   "metadata": {
    "collapsed": true
   },
   "outputs": [],
   "source": [
    "#I've commited three files for test, which are in push_dir/, called README.md, try_git_push.md and try_again.ipysn"
   ]
  },
  {
   "cell_type": "code",
   "execution_count": null,
   "metadata": {
    "collapsed": true
   },
   "outputs": [],
   "source": [
    "cd push_dir/#create a repository on my machine to link with the other on github\n",
    "git init#initialize empty Git repository in my machine\n",
    "git remote add origin https://github.com/xiaofanli96/push_dir.git\n",
    "#the code corresponding to pushing an already existing repository fail on my machine\n",
    "#error info is 'error: src refspec master does not match any.error: failed to push some refs to 'https://github.com/xiaofanli96/push_dir.git'\n",
    "#but the code corresponding to creating a new repository worked\n",
    "git add <filename>#add files to stage\n",
    "git commit <filename>#commit files\n",
    "git push origin master#push files from master/ on my machine to master/ in host computer called origin in github "
   ]
  },
  {
   "cell_type": "code",
   "execution_count": null,
   "metadata": {
    "collapsed": true
   },
   "outputs": [],
   "source": []
  },
  {
   "cell_type": "markdown",
   "metadata": {
    "collapsed": true
   },
   "source": [
    "### Problem 3: Sieve of Eratosthenes\n",
    "---\n",
    "\n",
    "1. Write a code that is capable of solving for the **sum** of all prime numbers below some number $N$, where $N$ is specified at the beginning of the code. To generate prime numbers, use the algorithm called the *[Sieve of Eratosthenes](https://en.wikipedia.org/wiki/Sieve_of_Eratosthenes)*. There are multiple ways of implementing the algorithm, so feel free to implement it in any way you choose! Note that some implementations will be much faster than others.\n",
    "<br><br>\n",
    "2. What is the sum of all prime numbers below 2 million?\n",
    "<br><br>\n",
    "3. Give a *brief* explanation of your code and how you implemented the algorithm, ~1 paragraph(s).\n",
    "\n",
    "Remember, a prime number is an integer greater than 1 that has no whole-number factors other than 1 and itself. Therefore, the sum of all prime numbers below 10 would be: 2 + 3 + 5 + 7 = 17.\n",
    "\n",
    "For the first problem of the first assignment, I've created some starter code to help get you going. I've outlined some of the steps, but you need to fill in the code where appropriate! Feel free to use this method, or create a new one entirely!"
   ]
  },
  {
   "cell_type": "code",
   "execution_count": 11,
   "metadata": {},
   "outputs": [
    {
     "name": "stdout",
     "output_type": "stream",
     "text": [
      "upper limit is:3\n",
      "2\n"
     ]
    }
   ],
   "source": [
    "#first version\n",
    "#N=int(input('upper limit is:'))\n",
    "#set_multiple_of_2=set(range(4,N,2))\n",
    "#set_multiple_of_3=set(range(6,N,3))\n",
    "#set_multiple_of_5=set(range(10,N,5))\n",
    "#set_multiple_of_7=set(range(14,N,7))\n",
    "#set_a=set(set_multiple_of_2 | set_multiple_of_3 | set_multiple_of_5 | set_multiple_of_7)\n",
    "#set_all=set(range(2,N))\n",
    "#set_prime_number=set(set_all - set_a)\n",
    "#print(set_prime_number)\n",
    "#sum=0\n",
    "#for i in set_prime_number:\n",
    "#    sum=sum+i\n",
    "#print(sum)\n",
    "\n",
    "#version2\n",
    "#version2 doesn't report error code,\n",
    "#but it just never append elements into set called primes\n",
    "#i can't figure out what is wrong\n",
    "N=int(input('upper limit is:'))\n",
    "primes=set([2])#for 2 is prime number, put it into set called primes\n",
    "i=3#make loop start by 3\n",
    "while i <= N:\n",
    "    for j in set(range(2,i)):\n",
    "        a=i%j#make i%(all the integers from 2 to i-1)\n",
    "        if a==0:#if i%j==0,break,next i\n",
    "            break\n",
    "        elif a!=0:#if i%j!=0, keep looping, next j\n",
    "            continue\n",
    "        primes.add(i)#add all prime number into set called primes\n",
    "    i += 1#change i by adding 1\n",
    "sum=0\n",
    "for i in primes:\n",
    "    sum=sum+i\n",
    "print(sum) #add up"
   ]
  },
  {
   "cell_type": "markdown",
   "metadata": {
    "collapsed": true
   },
   "source": [
    "**Explanation**:\n",
    "\n",
    "(replace with your own explanation)\n",
    "\n",
    "Example:\n",
    "\n",
    "I used sets as the data structure container for the primes and composites. \n",
    "Sets are useful for this problem because they...\n",
    "\n"
   ]
  },
  {
   "cell_type": "code",
   "execution_count": 12,
   "metadata": {},
   "outputs": [
    {
     "data": {
      "text/plain": [
       "0"
      ]
     },
     "execution_count": 12,
     "metadata": {},
     "output_type": "execute_result"
    }
   ],
   "source": [
    "#in first version\n",
    "#i define set_multiple_of_2, set_multiple_of_3, set_multiple_of_5 and set_multiple_of_7 to be sets of mutiples of 2,3,5 and 7 \n",
    "#set_a is the union of that four\n",
    "#since 1 isn't a prime number, i define the set of all number from 2 to N\n",
    "#by using set difference, i get set_prime_number as the set of all prime numbers\n",
    "#use a loop to add up\n",
    "#my first section runs well when the input N is not so large\n",
    "#when inputting, i got error message like:\n",
    "#IOPub data rate exceeded.\n",
    "#The notebook server will temporarily stop sending output\n",
    "#to the client in order to avoid crashing it.\n",
    "#To change this limit, set the config variable\n",
    "#`--NotebookApp.iopub_data_rate_limit`.\n",
    "#so now i try to work on version2\n",
    "#explanation of version2 will be beside the code"
   ]
  },
  {
   "cell_type": "markdown",
   "metadata": {
    "collapsed": true
   },
   "source": [
    "### Problem 4: Largest Palindrome\n",
    "---\n",
    "\n",
    "A palindrome is a number that reads the same way both ways. In other words, a palindrome remains identical when its characters are reversed order. For example, `11` is a palindrome, as is `99`, and `1001`, and `16561`. All of these numbers, when read in reversed order, remain unchanged. In this problem, we will search for the largest palindrome that is also a product of two numbers. For example, the largest palindrome made from the product of two **2-digit** numbers is 9009 = 91 × 99.\n",
    "\n",
    "1. Find the largest palindrome made from the product of two 3-digit numbers.\n",
    "<br><br>\n",
    "2. Give a *brief* explanation of your code"
   ]
  },
  {
   "cell_type": "code",
   "execution_count": 48,
   "metadata": {},
   "outputs": [
    {
     "ename": "TypeError",
     "evalue": "'float' object cannot be interpreted as an integer",
     "output_type": "error",
     "traceback": [
      "\u001b[0;31m---------------------------------------------------------------------------\u001b[0m",
      "\u001b[0;31mTypeError\u001b[0m                                 Traceback (most recent call last)",
      "\u001b[0;32m<ipython-input-48-4b403ccfc206>\u001b[0m in \u001b[0;36m<module>\u001b[0;34m()\u001b[0m\n\u001b[1;32m     10\u001b[0m \u001b[0;32mfor\u001b[0m \u001b[0ma\u001b[0m \u001b[0;32min\u001b[0m \u001b[0mrange\u001b[0m\u001b[0;34m(\u001b[0m\u001b[0;36m10\u001b[0m\u001b[0;34m**\u001b[0m\u001b[0;36m2\u001b[0m\u001b[0;34m,\u001b[0m\u001b[0;36m10\u001b[0m\u001b[0;34m**\u001b[0m\u001b[0;36m3\u001b[0m\u001b[0;34m)\u001b[0m\u001b[0;34m:\u001b[0m\u001b[0;34m\u001b[0m\u001b[0m\n\u001b[1;32m     11\u001b[0m     \u001b[0;32mfor\u001b[0m \u001b[0mb\u001b[0m \u001b[0;32min\u001b[0m \u001b[0mrange\u001b[0m\u001b[0;34m(\u001b[0m\u001b[0;36m10\u001b[0m\u001b[0;34m**\u001b[0m\u001b[0;36m2\u001b[0m\u001b[0;34m,\u001b[0m\u001b[0;36m10\u001b[0m\u001b[0;34m**\u001b[0m\u001b[0;36m3\u001b[0m\u001b[0;34m)\u001b[0m\u001b[0;34m:\u001b[0m\u001b[0;34m\u001b[0m\u001b[0m\n\u001b[0;32m---> 12\u001b[0;31m         \u001b[0mpalin\u001b[0m\u001b[0;34m(\u001b[0m\u001b[0ma\u001b[0m\u001b[0;34m*\u001b[0m\u001b[0mb\u001b[0m\u001b[0;34m)\u001b[0m\u001b[0;34m\u001b[0m\u001b[0m\n\u001b[0m\u001b[1;32m     13\u001b[0m         \u001b[0;32mif\u001b[0m \u001b[0mresult\u001b[0m\u001b[0;34m!=\u001b[0m\u001b[0;32mTrue\u001b[0m\u001b[0;34m:\u001b[0m\u001b[0;34m\u001b[0m\u001b[0m\n\u001b[1;32m     14\u001b[0m             \u001b[0;32mbreak\u001b[0m\u001b[0;34m\u001b[0m\u001b[0m\n",
      "\u001b[0;32m<ipython-input-48-4b403ccfc206>\u001b[0m in \u001b[0;36mpalin\u001b[0;34m(n)\u001b[0m\n\u001b[1;32m      2\u001b[0m     \u001b[0mm\u001b[0m\u001b[0;34m=\u001b[0m\u001b[0mstr\u001b[0m\u001b[0;34m(\u001b[0m\u001b[0mn\u001b[0m\u001b[0;34m)\u001b[0m\u001b[0;31m#turn int into str\u001b[0m\u001b[0;34m\u001b[0m\u001b[0m\n\u001b[1;32m      3\u001b[0m     \u001b[0mi\u001b[0m\u001b[0;34m=\u001b[0m\u001b[0mlen\u001b[0m\u001b[0;34m(\u001b[0m\u001b[0mm\u001b[0m\u001b[0;34m)\u001b[0m\u001b[0;34m-\u001b[0m\u001b[0;36m1\u001b[0m\u001b[0;31m#judge if it is palindrome\u001b[0m\u001b[0;34m\u001b[0m\u001b[0m\n\u001b[0;32m----> 4\u001b[0;31m     \u001b[0;32mfor\u001b[0m \u001b[0mp\u001b[0m \u001b[0;32min\u001b[0m \u001b[0mrange\u001b[0m\u001b[0;34m(\u001b[0m\u001b[0;36m0\u001b[0m\u001b[0;34m,\u001b[0m\u001b[0mi\u001b[0m\u001b[0;34m/\u001b[0m\u001b[0;36m2\u001b[0m\u001b[0;34m+\u001b[0m\u001b[0;36m1\u001b[0m\u001b[0;34m)\u001b[0m\u001b[0;34m:\u001b[0m\u001b[0;34m\u001b[0m\u001b[0m\n\u001b[0m\u001b[1;32m      5\u001b[0m         \u001b[0;32mif\u001b[0m \u001b[0;32mnot\u001b[0m \u001b[0mi\u001b[0m\u001b[0;34m[\u001b[0m\u001b[0mp\u001b[0m\u001b[0;34m-\u001b[0m\u001b[0;36m1\u001b[0m\u001b[0;34m]\u001b[0m \u001b[0;34m==\u001b[0m \u001b[0mi\u001b[0m\u001b[0;34m[\u001b[0m\u001b[0;34m-\u001b[0m\u001b[0;36m1\u001b[0m\u001b[0;34m*\u001b[0m\u001b[0mp\u001b[0m\u001b[0;34m]\u001b[0m\u001b[0;34m:\u001b[0m\u001b[0;31m#if the first equals the last, then it is, if not, then it isn't\u001b[0m\u001b[0;34m\u001b[0m\u001b[0m\n\u001b[1;32m      6\u001b[0m             \u001b[0;32mreturn\u001b[0m \u001b[0;32mFalse\u001b[0m\u001b[0;34m\u001b[0m\u001b[0m\n",
      "\u001b[0;31mTypeError\u001b[0m: 'float' object cannot be interpreted as an integer"
     ]
    }
   ],
   "source": [
    "def palin(n):\n",
    "    m=str(n)#turn int into str\n",
    "    i=len(m)-1#judge if it is palindrome\n",
    "    for p in range(0,i/2+1):\n",
    "        if not i[p-1] == i[-1*p]:#if the first equals the last, then it is, if not, then it isn't\n",
    "            return False\n",
    "    return True\n",
    "    \n",
    "c,a,b=10**4,10**2,10**2\n",
    "for a in range(10**2,10**3):\n",
    "    for b in range(10**2,10**3):#creating the product of two 3-digit numbers\n",
    "        palin(int(a*b)# call function, i don't how to fix the error code as'TypeError: 'float' object cannot be interpreted as an integer\n",
    "        if result!=True:\n",
    "            break\n",
    "        elif result==True:\n",
    "            if a*b>c:#find out if it is larger than the former one in the loop\n",
    "                c=a*b\n",
    "            else:\n",
    "                break\n",
    "print(c,a,b)"
   ]
  },
  {
   "cell_type": "code",
   "execution_count": null,
   "metadata": {
    "collapsed": true
   },
   "outputs": [],
   "source": []
  },
  {
   "cell_type": "code",
   "execution_count": null,
   "metadata": {
    "collapsed": true
   },
   "outputs": [],
   "source": []
  },
  {
   "cell_type": "code",
   "execution_count": null,
   "metadata": {
    "collapsed": true
   },
   "outputs": [],
   "source": []
  },
  {
   "cell_type": "code",
   "execution_count": null,
   "metadata": {
    "collapsed": true
   },
   "outputs": [],
   "source": []
  }
 ],
 "metadata": {
  "anaconda-cloud": {},
  "kernelspec": {
   "display_name": "Python 3",
   "language": "python",
   "name": "python3"
  },
  "language_info": {
   "codemirror_mode": {
    "name": "ipython",
    "version": 3
   },
   "file_extension": ".py",
   "mimetype": "text/x-python",
   "name": "python",
   "nbconvert_exporter": "python",
   "pygments_lexer": "ipython3",
   "version": "3.6.1"
  }
 },
 "nbformat": 4,
 "nbformat_minor": 1
}
